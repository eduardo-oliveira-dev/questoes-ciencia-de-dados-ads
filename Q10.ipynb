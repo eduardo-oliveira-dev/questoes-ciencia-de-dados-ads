{
 "cells": [
  {
   "cell_type": "markdown",
   "id": "e16893a1",
   "metadata": {},
   "source": [
    "# **Previsão de Vendas Mensais em Rede de Varejo**"
   ]
  },
  {
   "cell_type": "code",
   "execution_count": 3,
   "id": "328c6b72",
   "metadata": {},
   "outputs": [],
   "source": [
    "# Para manipulação de dados\n",
    "import pandas as pd\n",
    "import numpy as np\n",
    "\n",
    "# Para visualização\n",
    "import matplotlib.pyplot as plt\n",
    "import seaborn as sns\n",
    "\n",
    "# Para pré-processamento\n",
    "from sklearn.model_selection import train_test_split\n",
    "from sklearn.preprocessing import StandardScaler, OneHotEncoder\n",
    "from sklearn.impute import SimpleImputer\n",
    "from sklearn.pipeline import Pipeline\n",
    "from sklearn.compose import ColumnTransformer\n",
    "\n",
    "# Modelos de Regressão\n",
    "from sklearn.linear_model import LinearRegression\n",
    "from sklearn.tree import DecisionTreeRegressor\n",
    "from xgboost import XGBRegressor\n",
    "\n",
    "# Métricas de Avaliação\n",
    "from sklearn.metrics import mean_squared_error, mean_absolute_error, r2_score"
   ]
  },
  {
   "cell_type": "code",
   "execution_count": 4,
   "id": "61d9ccea",
   "metadata": {},
   "outputs": [
    {
     "name": "stdout",
     "output_type": "stream",
     "text": [
      "Tamanho original do dataset: 1017209 linhas\n",
      "Tamanho do novo dataset (amostra): 100000 linhas\n"
     ]
    }
   ],
   "source": [
    "# Carregar os datasets\n",
    "df_train = pd.read_csv('datasets/train.csv', low_memory=False)\n",
    "df_store = pd.read_csv('datasets/store.csv')\n",
    "\n",
    "# Juntar os dois dataframes\n",
    "df_completo = pd.merge(df_train, df_store, on='Store')\n",
    "\n",
    "# --- Reduzir o dataset para um treinamento mais rápido ---\n",
    "print(f\"Tamanho original do dataset: {len(df_completo)} linhas\")\n",
    "\n",
    "# Vamos pegar uma amostra aleatória de 100.000 linhas\n",
    "df = df_completo.sample(n=100000, random_state=42).copy()\n",
    "print(f\"Tamanho do novo dataset (amostra): {len(df)} linhas\")"
   ]
  },
  {
   "cell_type": "code",
   "execution_count": 5,
   "id": "1522bb71",
   "metadata": {},
   "outputs": [
    {
     "name": "stdout",
     "output_type": "stream",
     "text": [
      "Dados após limpeza inicial:\n",
      "        Store  DayOfWeek        Date  Sales  Promo StateHoliday  \\\n",
      "923026    592          2  2013-03-26   5548      1            0   \n",
      "731180    526          6  2013-09-14   7467      0            0   \n",
      "790350    601          2  2013-07-23   3360      0            0   \n",
      "252134    953          1  2014-12-15  11414      1            0   \n",
      "666826    842          1  2013-11-11  14126      0            0   \n",
      "\n",
      "        SchoolHoliday StoreType Assortment  CompetitionDistance  \\\n",
      "923026              1         a          a               2540.0   \n",
      "731180              0         a          a                120.0   \n",
      "790350              1         d          a               8220.0   \n",
      "252134              0         a          a              19830.0   \n",
      "666826              0         d          c               1200.0   \n",
      "\n",
      "        CompetitionOpenSinceMonth  CompetitionOpenSinceYear  Promo2  \\\n",
      "923026                        6.0                    2005.0       0   \n",
      "731180                        NaN                       NaN       1   \n",
      "790350                        4.0                    2014.0       1   \n",
      "252134                        4.0                    2006.0       1   \n",
      "666826                       11.0                    2007.0       0   \n",
      "\n",
      "        Promo2SinceWeek  Promo2SinceYear     PromoInterval  \n",
      "923026              NaN              NaN               NaN  \n",
      "731180             48.0           2011.0  Mar,Jun,Sept,Dec  \n",
      "790350             14.0           2011.0   Jan,Apr,Jul,Oct  \n",
      "252134             22.0           2011.0  Mar,Jun,Sept,Dec  \n",
      "666826              NaN              NaN               NaN  \n"
     ]
    }
   ],
   "source": [
    "# Filtrar apenas por lojas abertas (Open == 1) e com vendas (Sales > 0)\n",
    "df = df[(df['Open'] == 1) & (df['Sales'] > 0)].copy()\n",
    "\n",
    "# Remover colunas que não usaremos ou que causam vazamento de dados (Customers)\n",
    "df = df.drop(columns=['Customers', 'Open']) # 'Open' é sempre 1 agora\n",
    "\n",
    "print(\"Dados após limpeza inicial:\")\n",
    "print(df.head())"
   ]
  },
  {
   "cell_type": "code",
   "execution_count": 6,
   "id": "5e07065f",
   "metadata": {},
   "outputs": [
    {
     "name": "stdout",
     "output_type": "stream",
     "text": [
      "Dados após engenharia de features:\n",
      "        Store  DayOfWeek       Date  Sales  Promo  StateHoliday  \\\n",
      "923026    592          2 2013-03-26   5548      1             0   \n",
      "731180    526          6 2013-09-14   7467      0             0   \n",
      "790350    601          2 2013-07-23   3360      0             0   \n",
      "252134    953          1 2014-12-15  11414      1             0   \n",
      "666826    842          1 2013-11-11  14126      0             0   \n",
      "\n",
      "        SchoolHoliday StoreType Assortment  CompetitionDistance  ...  \\\n",
      "923026              1         a          a               2540.0  ...   \n",
      "731180              0         a          a                120.0  ...   \n",
      "790350              1         d          a               8220.0  ...   \n",
      "252134              0         a          a              19830.0  ...   \n",
      "666826              0         d          c               1200.0  ...   \n",
      "\n",
      "        CompetitionOpenSinceYear  Promo2  Promo2SinceWeek  Promo2SinceYear  \\\n",
      "923026                    2005.0       0              NaN              NaN   \n",
      "731180                       NaN       1             48.0           2011.0   \n",
      "790350                    2014.0       1             14.0           2011.0   \n",
      "252134                    2006.0       1             22.0           2011.0   \n",
      "666826                    2007.0       0              NaN              NaN   \n",
      "\n",
      "           PromoInterval  Year  Month  Day  WeekOfYear  Quarter  \n",
      "923026               NaN  2013      3   26          13        1  \n",
      "731180  Mar,Jun,Sept,Dec  2013      9   14          37        3  \n",
      "790350   Jan,Apr,Jul,Oct  2013      7   23          30        3  \n",
      "252134  Mar,Jun,Sept,Dec  2014     12   15          51        4  \n",
      "666826               NaN  2013     11   11          46        4  \n",
      "\n",
      "[5 rows x 21 columns]\n"
     ]
    }
   ],
   "source": [
    "# Extrair features de data\n",
    "df['Date'] = pd.to_datetime(df['Date'])\n",
    "df['Year'] = df['Date'].dt.year\n",
    "df['Month'] = df['Date'].dt.month\n",
    "df['Day'] = df['Date'].dt.day\n",
    "df['WeekOfYear'] = df['Date'].dt.isocalendar().week\n",
    "df['Quarter'] = df['Date'].dt.quarter\n",
    "\n",
    "# Simplificar feriados: 0 = Sem feriado, 1 = Feriado (qualquer tipo)\n",
    "df['StateHoliday'] = df['StateHoliday'].map({'0': 0, 0: 0, 'a': 1, 'b': 1, 'c': 1})\n",
    "df['StateHoliday'] = df['StateHoliday'].astype(int)\n",
    "\n",
    "# Tratar valores nulos em 'CompetitionDistance' com a mediana\n",
    "median_distance = df['CompetitionDistance'].median()\n",
    "df['CompetitionDistance'] = df['CompetitionDistance'].fillna(median_distance)\n",
    "\n",
    "print(\"Dados após engenharia de features:\")\n",
    "print(df.head())"
   ]
  },
  {
   "cell_type": "code",
   "execution_count": 7,
   "id": "4ac2d508",
   "metadata": {},
   "outputs": [
    {
     "name": "stdout",
     "output_type": "stream",
     "text": [
      "Total de features: 12\n",
      "Features Numéricas: ['Promo', 'StateHoliday', 'SchoolHoliday', 'CompetitionDistance', 'Year', 'Month', 'WeekOfYear', 'Quarter']\n",
      "Features Categóricas: ['StoreType', 'Assortment', 'DayOfWeek', 'Store']\n"
     ]
    }
   ],
   "source": [
    "# Lista de colunas que usaremos como features (preditoras)\n",
    "colunas_features = [\n",
    "    'Store', 'DayOfWeek', 'Promo', 'StateHoliday', 'SchoolHoliday',\n",
    "    'StoreType', 'Assortment', 'CompetitionDistance', 'Year', 'Month',\n",
    "    'WeekOfYear', 'Quarter'\n",
    "]\n",
    "\n",
    "# Separar as colunas por tipo\n",
    "features_categoricas = ['StoreType', 'Assortment', 'DayOfWeek', 'Store']\n",
    "features_numericas = [coluna for coluna in colunas_features if coluna not in features_categoricas]\n",
    "\n",
    "# Definir X (features) e y (alvo)\n",
    "X = df[colunas_features]\n",
    "y = df['Sales'] # Nosso alvo\n",
    "\n",
    "print(f\"Total de features: {len(colunas_features)}\")\n",
    "print(f\"Features Numéricas: {features_numericas}\")\n",
    "print(f\"Features Categóricas: {features_categoricas}\")"
   ]
  },
  {
   "cell_type": "code",
   "execution_count": 8,
   "id": "d6fdfd87",
   "metadata": {},
   "outputs": [
    {
     "name": "stdout",
     "output_type": "stream",
     "text": [
      "Tamanho do conjunto de treino: 66371 amostras\n",
      "Tamanho do conjunto de teste: 16593 amostras\n"
     ]
    }
   ],
   "source": [
    "# Dividir em dados de treino e teste (80% treino, 20% teste)\n",
    "X_treino, X_teste, y_treino, y_teste = train_test_split(X, y, test_size=0.2, random_state=42)\n",
    "\n",
    "print(f\"Tamanho do conjunto de treino: {len(X_treino)} amostras\")\n",
    "print(f\"Tamanho do conjunto de teste: {len(X_teste)} amostras\")"
   ]
  },
  {
   "cell_type": "code",
   "execution_count": 9,
   "id": "832876ad",
   "metadata": {},
   "outputs": [],
   "source": [
    "# Pipeline para features numéricas:\n",
    "# Preenche valores nulos (NaN) com a mediana\n",
    "# Padroniza a escala das features (StandardScaler)\n",
    "transformador_numerico = Pipeline(steps=[\n",
    "    ('imputer', SimpleImputer(strategy='median')),\n",
    "    ('scaler', StandardScaler())\n",
    "])\n",
    "\n",
    "# Pipeline para features categóricas:\n",
    "# Preenche valores nulos (NaN) com a string 'missing'\n",
    "# Aplica o OneHotEncoder (cria colunas dummy)\n",
    "transformador_categorico = Pipeline(steps=[\n",
    "    ('imputer', SimpleImputer(strategy='constant', fill_value='missing')),\n",
    "    ('onehot', OneHotEncoder(handle_unknown='ignore'))\n",
    "])\n",
    "\n",
    "# Combinar os dois transformadores em um único pré-processador\n",
    "pre_processador = ColumnTransformer(\n",
    "    transformers=[\n",
    "        ('num', transformador_numerico, features_numericas),\n",
    "        ('cat', transformador_categorico, features_categoricas)\n",
    "    ])"
   ]
  },
  {
   "cell_type": "code",
   "execution_count": 10,
   "id": "ff3f8c6f",
   "metadata": {},
   "outputs": [
    {
     "name": "stdout",
     "output_type": "stream",
     "text": [
      "Treinando a Regressão Linear...\n",
      "Treinando a Árvore de Decisão...\n",
      "Treinando o XGBoost...\n",
      "Treinamento concluído!\n"
     ]
    }
   ],
   "source": [
    "# Pipeline da Regressão Linear\n",
    "pipeline_regressao_linear = Pipeline(steps=[('preprocessor', pre_processador),\n",
    "                                            ('model', LinearRegression())])\n",
    "print(\"Treinando a Regressão Linear...\")\n",
    "pipeline_regressao_linear.fit(X_treino, y_treino)\n",
    "\n",
    "\n",
    "# Pipeline da Árvore de Decisão\n",
    "pipeline_arvore_decisao = Pipeline(steps=[('preprocessor', pre_processador),\n",
    "                                          ('model', DecisionTreeRegressor(random_state=42, max_depth=100))])\n",
    "print(\"Treinando a Árvore de Decisão...\")\n",
    "pipeline_arvore_decisao.fit(X_treino, y_treino)\n",
    "\n",
    "\n",
    "# Pipeline do XGBoost\n",
    "pipeline_xgboost = Pipeline(steps=[('preprocessor', pre_processador),\n",
    "                                   ('model', XGBRegressor(\n",
    "                                       random_state=42,\n",
    "                                       n_estimators=500,\n",
    "                                       learning_rate=0.05,\n",
    "                                       max_depth=8,\n",
    "                                       objective='reg:squarederror'\n",
    "                                   ))])\n",
    "print(\"Treinando o XGBoost...\")\n",
    "pipeline_xgboost.fit(X_treino, y_treino)\n",
    "\n",
    "print(\"Treinamento concluído!\")"
   ]
  },
  {
   "cell_type": "code",
   "execution_count": 11,
   "id": "ad68556c",
   "metadata": {},
   "outputs": [
    {
     "name": "stdout",
     "output_type": "stream",
     "text": [
      "Avaliando modelos nos dados de teste:\n",
      "              Modelo         RMSE          MAE        R²\n",
      "0   Regressão Linear  1509.092142  1073.501134  0.754875\n",
      "1  Árvore de Decisão  1719.101763  1143.986727  0.681903\n",
      "2            XGBoost  1779.837212  1379.671387  0.659030\n"
     ]
    }
   ],
   "source": [
    "# Criar um dicionário para armazenar os pipelines treinados\n",
    "modelos = {\n",
    "    \"Regressão Linear\": pipeline_regressao_linear,\n",
    "    \"Árvore de Decisão\": pipeline_arvore_decisao,\n",
    "    \"XGBoost\": pipeline_xgboost\n",
    "}\n",
    "\n",
    "# Lista para guardar os resultados\n",
    "resultados = []\n",
    "\n",
    "print(\"Avaliando modelos nos dados de teste:\")\n",
    "for nome, modelo in modelos.items():\n",
    "    # Fazer previsões com os dados de teste\n",
    "    y_previsao = modelo.predict(X_teste)\n",
    "    \n",
    "    # Calcular métricas\n",
    "    rmse = np.sqrt(mean_squared_error(y_teste, y_previsao))\n",
    "    mae = mean_absolute_error(y_teste, y_previsao)\n",
    "    r2 = r2_score(y_teste, y_previsao)\n",
    "    \n",
    "    resultados.append([nome, rmse, mae, r2])\n",
    "    \n",
    "# Criar um DataFrame para facilitar a visualização\n",
    "df_resultados = pd.DataFrame(resultados, columns=[\"Modelo\", \"RMSE\", \"MAE\", \"R²\"])\n",
    "\n",
    "print(df_resultados)"
   ]
  },
  {
   "cell_type": "code",
   "execution_count": 12,
   "id": "c9de5226",
   "metadata": {},
   "outputs": [
    {
     "name": "stdout",
     "output_type": "stream",
     "text": [
      "\n",
      "--- Coeficientes do Modelo Linear (Maior Impacto) ---\n",
      "         Feature   Coeficiente       Impacto\n",
      "838    Store_817  15717.149946  15717.149946\n",
      "1135  Store_1114  13359.413852  13359.413852\n",
      "534    Store_513  11933.590150  11933.590150\n",
      "272    Store_251  11708.385813  11708.385813\n",
      "863    Store_842  11286.566759  11286.566759\n",
      "283    Store_262  10524.167099  10524.167099\n",
      "809    Store_788  10081.388195  10081.388195\n",
      "404    Store_383   9291.831163   9291.831163\n",
      "719    Store_698   8958.045242   8958.045242\n",
      "544    Store_523   8312.346741   8312.346741\n",
      "777    Store_756   8022.395452   8022.395452\n",
      "607    Store_586   7847.516960   7847.516960\n",
      "401    Store_380   7748.011926   7748.011926\n",
      "565    Store_544   7544.675956   7544.675956\n",
      "616    Store_595   7541.446480   7541.446480\n",
      "1054  Store_1033   7360.002636   7360.002636\n",
      "357    Store_336   7266.605284   7266.605284\n",
      "567    Store_546   7052.985020   7052.985020\n",
      "341    Store_320   6931.965664   6931.965664\n",
      "754    Store_733   6371.217437   6371.217437\n"
     ]
    },
    {
     "data": {
      "image/png": "[encoded data removed]",
      "text/plain": [
       "<Figure size 1000x800 with 1 Axes>"
      ]
     },
     "metadata": {},
     "output_type": "display_data"
    }
   ],
   "source": [
    "# --- Análise de Impacto do *melhor modelo* (Regressão Linear) ---\n",
    "\n",
    "# Obter o modelo linear de dentro do pipeline\n",
    "modelo_linear = pipeline_regressao_linear.named_steps['model']\n",
    "\n",
    "# Obter os nomes das features categóricas DEPOIS do OneHotEncoding\n",
    "nomes_features_categoricas = pipeline_regressao_linear.named_steps['preprocessor'] \\\n",
    "                                .named_transformers_['cat'] \\\n",
    "                                .named_steps['onehot'] \\\n",
    "                                .get_feature_names_out(features_categoricas)\n",
    "\n",
    "# Juntar os nomes das features numéricas e categóricas\n",
    "todos_nomes_features = np.concatenate([features_numericas, nomes_features_categoricas])\n",
    "\n",
    "# Criar um DataFrame com os coeficientes\n",
    "# Usamos o valor absoluto (np.abs) para medir o 'tamanho' do impacto\n",
    "df_coeficientes = pd.DataFrame({\n",
    "    'Feature': todos_nomes_features,\n",
    "    'Coeficiente': modelo_linear.coef_,\n",
    "    'Impacto': np.abs(modelo_linear.coef_)\n",
    "}).sort_values(by='Impacto', ascending=False)\n",
    "\n",
    "print(\"\\n--- Coeficientes do Modelo Linear (Maior Impacto) ---\")\n",
    "print(df_coeficientes.head(20))\n",
    "\n",
    "# Plotar os 20 mais impactantes\n",
    "plt.figure(figsize=(10, 8))\n",
    "sns.barplot(\n",
    "    data=df_coeficientes.head(20),\n",
    "    x='Impacto',\n",
    "    y='Feature'\n",
    ")\n",
    "plt.title('Top 20 Features com Maior Impacto (Regressão Linear)')\n",
    "plt.show()"
   ]
  },
  {
   "cell_type": "markdown",
   "id": "4841c7a0",
   "metadata": {},
   "source": [
    "## **Conclusão**\n",
    "\n",
    "**Qual modelo apresentou a menor margem de erro?**\n",
    "\n",
    "O modelo de Regressão Linear. Ele apresentou o menor RMSE (1509.09), o menor MAE (1073.50) e o maior R² (0.75), indicando que é o modelo que melhor se ajustou aos dados de teste.\n",
    "\n",
    "**Quais variáveis tiveram maior impacto nas previsões?**\n",
    "\n",
    "A variável com maior impacto foi a Loja (Store). Como demonstrado na análise de coeficientes, o modelo aprendeu um \"peso\" (coeficiente) individual para cada loja, e a identidade da loja (Store_817, Store_1114, etc.) foi o fator mais importante para determinar o volume de vendas."
   ]
  }
 ],
 "metadata": {
  "kernelspec": {
   "display_name": "base",
   "language": "python",
   "name": "python3"
  },
  "language_info": {
   "codemirror_mode": {
    "name": "ipython",
    "version": 3
   },
   "file_extension": ".py",
   "mimetype": "text/x-python",
   "name": "python",
   "nbconvert_exporter": "python",
   "pygments_lexer": "ipython3",
   "version": "3.13.5"
  }
 },
 "nbformat": 4,
 "nbformat_minor": 5
}
