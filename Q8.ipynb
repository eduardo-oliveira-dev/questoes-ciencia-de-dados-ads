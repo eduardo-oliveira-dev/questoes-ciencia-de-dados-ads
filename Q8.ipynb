{
  "cells": [
    {
      "cell_type": "markdown",
      "metadata": {},
      "source": [
        "# **Recomendação de Filmes com Filtragem Colaborativa**"
      ]
    },
    {
      "cell_type": "code",
      "execution_count": 2,
      "metadata": {
        "colab": {
          "base_uri": "https://localhost:8080/"
        },
        "id": "9Xftbtbr3Q2V",
        "outputId": "dddc883c-de47-469c-be41-2e3f48921299"
      },
      "outputs": [
        {
          "name": "stdout",
          "output_type": "stream",
          "text": [
            "Requirement already satisfied: pandas in /home/code-warden/anaconda3/lib/python3.13/site-packages (2.2.3)\n",
            "Requirement already satisfied: scikit-learn in /home/code-warden/anaconda3/lib/python3.13/site-packages (1.6.1)\n",
            "Collecting tensorflow\n",
            "  Downloading tensorflow-2.20.0-cp313-cp313-manylinux_2_17_x86_64.manylinux2014_x86_64.whl.metadata (4.5 kB)\n",
            "Requirement already satisfied: numpy in /home/code-warden/anaconda3/lib/python3.13/site-packages (2.1.3)\n",
            "Requirement already satisfied: python-dateutil>=2.8.2 in /home/code-warden/anaconda3/lib/python3.13/site-packages (from pandas) (2.9.0.post0)\n",
            "Requirement already satisfied: pytz>=2020.1 in /home/code-warden/anaconda3/lib/python3.13/site-packages (from pandas) (2024.1)\n",
            "Requirement already satisfied: tzdata>=2022.7 in /home/code-warden/anaconda3/lib/python3.13/site-packages (from pandas) (2025.2)\n",
            "Requirement already satisfied: scipy>=1.6.0 in /home/code-warden/anaconda3/lib/python3.13/site-packages (from scikit-learn) (1.15.3)\n",
            "Requirement already satisfied: joblib>=1.2.0 in /home/code-warden/anaconda3/lib/python3.13/site-packages (from scikit-learn) (1.4.2)\n",
            "Requirement already satisfied: threadpoolctl>=3.1.0 in /home/code-warden/anaconda3/lib/python3.13/site-packages (from scikit-learn) (3.5.0)\n",
            "Requirement already satisfied: absl-py>=1.0.0 in /home/code-warden/anaconda3/lib/python3.13/site-packages (from tensorflow) (2.3.1)\n",
            "Requirement already satisfied: astunparse>=1.6.0 in /home/code-warden/anaconda3/lib/python3.13/site-packages (from tensorflow) (1.6.3)\n",
            "Requirement already satisfied: flatbuffers>=24.3.25 in /home/code-warden/anaconda3/lib/python3.13/site-packages (from tensorflow) (25.9.23)\n",
            "Requirement already satisfied: gast!=0.5.0,!=0.5.1,!=0.5.2,>=0.2.1 in /home/code-warden/anaconda3/lib/python3.13/site-packages (from tensorflow) (0.6.0)\n",
            "Requirement already satisfied: google_pasta>=0.1.1 in /home/code-warden/anaconda3/lib/python3.13/site-packages (from tensorflow) (0.2.0)\n",
            "Requirement already satisfied: libclang>=13.0.0 in /home/code-warden/anaconda3/lib/python3.13/site-packages (from tensorflow) (18.1.1)\n",
            "Requirement already satisfied: opt_einsum>=2.3.2 in /home/code-warden/anaconda3/lib/python3.13/site-packages (from tensorflow) (3.4.0)\n",
            "Requirement already satisfied: packaging in /home/code-warden/anaconda3/lib/python3.13/site-packages (from tensorflow) (24.2)\n",
            "Requirement already satisfied: protobuf>=5.28.0 in /home/code-warden/anaconda3/lib/python3.13/site-packages (from tensorflow) (5.29.3)\n",
            "Requirement already satisfied: requests<3,>=2.21.0 in /home/code-warden/anaconda3/lib/python3.13/site-packages (from tensorflow) (2.31.0)\n",
            "Requirement already satisfied: setuptools in /home/code-warden/anaconda3/lib/python3.13/site-packages (from tensorflow) (72.1.0)\n",
            "Requirement already satisfied: six>=1.12.0 in /home/code-warden/anaconda3/lib/python3.13/site-packages (from tensorflow) (1.17.0)\n",
            "Requirement already satisfied: termcolor>=1.1.0 in /home/code-warden/anaconda3/lib/python3.13/site-packages (from tensorflow) (3.2.0)\n",
            "Requirement already satisfied: typing_extensions>=3.6.6 in /home/code-warden/anaconda3/lib/python3.13/site-packages (from tensorflow) (4.12.2)\n",
            "Requirement already satisfied: wrapt>=1.11.0 in /home/code-warden/anaconda3/lib/python3.13/site-packages (from tensorflow) (1.17.0)\n",
            "Requirement already satisfied: grpcio<2.0,>=1.24.3 in /home/code-warden/anaconda3/lib/python3.13/site-packages (from tensorflow) (1.76.0)\n",
            "Requirement already satisfied: tensorboard~=2.20.0 in /home/code-warden/anaconda3/lib/python3.13/site-packages (from tensorflow) (2.20.0)\n",
            "Requirement already satisfied: keras>=3.10.0 in /home/code-warden/anaconda3/lib/python3.13/site-packages (from tensorflow) (3.11.3)\n",
            "Requirement already satisfied: h5py>=3.11.0 in /home/code-warden/anaconda3/lib/python3.13/site-packages (from tensorflow) (3.12.1)\n",
            "Requirement already satisfied: ml_dtypes<1.0.0,>=0.5.1 in /home/code-warden/anaconda3/lib/python3.13/site-packages (from tensorflow) (0.5.3)\n",
            "Requirement already satisfied: charset-normalizer<4,>=2 in /home/code-warden/anaconda3/lib/python3.13/site-packages (from requests<3,>=2.21.0->tensorflow) (3.3.2)\n",
            "Requirement already satisfied: idna<4,>=2.5 in /home/code-warden/anaconda3/lib/python3.13/site-packages (from requests<3,>=2.21.0->tensorflow) (3.7)\n",
            "Requirement already satisfied: urllib3<3,>=1.21.1 in /home/code-warden/anaconda3/lib/python3.13/site-packages (from requests<3,>=2.21.0->tensorflow) (2.3.0)\n",
            "Requirement already satisfied: certifi>=2017.4.17 in /home/code-warden/anaconda3/lib/python3.13/site-packages (from requests<3,>=2.21.0->tensorflow) (2025.4.26)\n",
            "Requirement already satisfied: markdown>=2.6.8 in /home/code-warden/anaconda3/lib/python3.13/site-packages (from tensorboard~=2.20.0->tensorflow) (3.8)\n",
            "Requirement already satisfied: pillow in /home/code-warden/anaconda3/lib/python3.13/site-packages (from tensorboard~=2.20.0->tensorflow) (11.1.0)\n",
            "Requirement already satisfied: tensorboard-data-server<0.8.0,>=0.7.0 in /home/code-warden/anaconda3/lib/python3.13/site-packages (from tensorboard~=2.20.0->tensorflow) (0.7.2)\n",
            "Requirement already satisfied: werkzeug>=1.0.1 in /home/code-warden/anaconda3/lib/python3.13/site-packages (from tensorboard~=2.20.0->tensorflow) (3.1.3)\n",
            "Requirement already satisfied: wheel<1.0,>=0.23.0 in /home/code-warden/anaconda3/lib/python3.13/site-packages (from astunparse>=1.6.0->tensorflow) (0.45.1)\n",
            "Requirement already satisfied: rich in /home/code-warden/anaconda3/lib/python3.13/site-packages (from keras>=3.10.0->tensorflow) (13.9.4)\n",
            "Requirement already satisfied: namex in /home/code-warden/anaconda3/lib/python3.13/site-packages (from keras>=3.10.0->tensorflow) (0.1.0)\n",
            "Requirement already satisfied: optree in /home/code-warden/anaconda3/lib/python3.13/site-packages (from keras>=3.10.0->tensorflow) (0.17.0)\n",
            "Requirement already satisfied: MarkupSafe>=2.1.1 in /home/code-warden/anaconda3/lib/python3.13/site-packages (from werkzeug>=1.0.1->tensorboard~=2.20.0->tensorflow) (3.0.2)\n",
            "Requirement already satisfied: markdown-it-py>=2.2.0 in /home/code-warden/anaconda3/lib/python3.13/site-packages (from rich->keras>=3.10.0->tensorflow) (2.2.0)\n",
            "Requirement already satisfied: pygments<3.0.0,>=2.13.0 in /home/code-warden/anaconda3/lib/python3.13/site-packages (from rich->keras>=3.10.0->tensorflow) (2.19.1)\n",
            "Requirement already satisfied: mdurl~=0.1 in /home/code-warden/anaconda3/lib/python3.13/site-packages (from markdown-it-py>=2.2.0->rich->keras>=3.10.0->tensorflow) (0.1.0)\n",
            "Downloading tensorflow-2.20.0-cp313-cp313-manylinux_2_17_x86_64.manylinux2014_x86_64.whl (620.8 MB)\n",
            "\u001b[2K   \u001b[90m━━━━━━━━━━━━━━━━━━━━━━━━━━━━━━━━━━━━━━━━\u001b[0m \u001b[32m620.8/620.8 MB\u001b[0m \u001b[31m9.9 MB/s\u001b[0m eta \u001b[36m0:00:00\u001b[0m:00:01\u001b[0m00:02\u001b[0m\n",
            "\u001b[?25hInstalling collected packages: tensorflow\n",
            "Successfully installed tensorflow-2.20.0\n"
          ]
        },
        {
          "name": "stderr",
          "output_type": "stream",
          "text": [
            "2025-10-29 23:04:44.504660: I external/local_xla/xla/tsl/cuda/cudart_stub.cc:31] Could not find cuda drivers on your machine, GPU will not be used.\n",
            "2025-10-29 23:04:44.560446: I tensorflow/core/platform/cpu_feature_guard.cc:210] This TensorFlow binary is optimized to use available CPU instructions in performance-critical operations.\n",
            "To enable the following instructions: AVX2 FMA, in other operations, rebuild TensorFlow with the appropriate compiler flags.\n",
            "2025-10-29 23:04:45.850994: I external/local_xla/xla/tsl/cuda/cudart_stub.cc:31] Could not find cuda drivers on your machine, GPU will not be used.\n"
          ]
        }
      ],
      "source": [
        "# Instalação e Importação de Bibliotecas\n",
        "\n",
        "!pip install pandas scikit-learn tensorflow numpy\n",
        "\n",
        "import pandas as pd\n",
        "import numpy as np\n",
        "from sklearn.metrics import mean_squared_error, mean_absolute_error\n",
        "from sklearn.model_selection import train_test_split\n",
        "from sklearn.metrics.pairwise import cosine_similarity\n",
        "import tensorflow as tf"
      ]
    },
    {
      "cell_type": "code",
      "execution_count": 3,
      "metadata": {
        "colab": {
          "base_uri": "https://localhost:8080/",
          "height": 206
        },
        "id": "lyLMbKxM337g",
        "outputId": "1148acc7-8a9a-4d7e-8bfe-da54704b2207"
      },
      "outputs": [
        {
          "data": {
            "text/html": [
              "<div>\n",
              "<style scoped>\n",
              "    .dataframe tbody tr th:only-of-type {\n",
              "        vertical-align: middle;\n",
              "    }\n",
              "\n",
              "    .dataframe tbody tr th {\n",
              "        vertical-align: top;\n",
              "    }\n",
              "\n",
              "    .dataframe thead th {\n",
              "        text-align: right;\n",
              "    }\n",
              "</style>\n",
              "<table border=\"1\" class=\"dataframe\">\n",
              "  <thead>\n",
              "    <tr style=\"text-align: right;\">\n",
              "      <th></th>\n",
              "      <th>usuario</th>\n",
              "      <th>filme</th>\n",
              "      <th>avaliacao</th>\n",
              "      <th>tempo</th>\n",
              "    </tr>\n",
              "  </thead>\n",
              "  <tbody>\n",
              "    <tr>\n",
              "      <th>0</th>\n",
              "      <td>196</td>\n",
              "      <td>242</td>\n",
              "      <td>3</td>\n",
              "      <td>881250949</td>\n",
              "    </tr>\n",
              "    <tr>\n",
              "      <th>1</th>\n",
              "      <td>186</td>\n",
              "      <td>302</td>\n",
              "      <td>3</td>\n",
              "      <td>891717742</td>\n",
              "    </tr>\n",
              "    <tr>\n",
              "      <th>2</th>\n",
              "      <td>22</td>\n",
              "      <td>377</td>\n",
              "      <td>1</td>\n",
              "      <td>878887116</td>\n",
              "    </tr>\n",
              "    <tr>\n",
              "      <th>3</th>\n",
              "      <td>244</td>\n",
              "      <td>51</td>\n",
              "      <td>2</td>\n",
              "      <td>880606923</td>\n",
              "    </tr>\n",
              "    <tr>\n",
              "      <th>4</th>\n",
              "      <td>166</td>\n",
              "      <td>346</td>\n",
              "      <td>1</td>\n",
              "      <td>886397596</td>\n",
              "    </tr>\n",
              "  </tbody>\n",
              "</table>\n",
              "</div>"
            ],
            "text/plain": [
              "   usuario  filme  avaliacao      tempo\n",
              "0      196    242          3  881250949\n",
              "1      186    302          3  891717742\n",
              "2       22    377          1  878887116\n",
              "3      244     51          2  880606923\n",
              "4      166    346          1  886397596"
            ]
          },
          "execution_count": 3,
          "metadata": {},
          "output_type": "execute_result"
        }
      ],
      "source": [
        "# Carregando o Dataset MovieLens 100k\n",
        "\n",
        "url = \"https://files.grouplens.org/datasets/movielens/ml-100k/u.data\"\n",
        "colunas = [\"usuario\", \"filme\", \"avaliacao\", \"tempo\"]\n",
        "dados = pd.read_csv(url, sep='\\t', names=colunas)\n",
        "\n",
        "dados.head()"
      ]
    },
    {
      "cell_type": "code",
      "execution_count": 4,
      "metadata": {
        "id": "ekgcYx3z4NW_"
      },
      "outputs": [],
      "source": [
        "# Preparando os Dados\n",
        "\n",
        "# Criar uma tabela de usuários x filmes\n",
        "matriz_avaliacoes = dados.pivot_table(index='usuario', columns='filme', values='avaliacao')\n",
        "\n",
        "# Divide em treino e teste (80% e 20%)\n",
        "train, test = train_test_split(dados, test_size=0.2, random_state=42)"
      ]
    },
    {
      "cell_type": "code",
      "execution_count": 5,
      "metadata": {
        "colab": {
          "base_uri": "https://localhost:8080/"
        },
        "id": "wH9ypZwl6Pi-",
        "outputId": "ac4ef698-2b5d-44b9-8cff-e4328a0b7b75"
      },
      "outputs": [
        {
          "name": "stdout",
          "output_type": "stream",
          "text": [
            "Filtragem Colaborativa (Usuário) — RMSE: 0.955, MAE: 0.760\n"
          ]
        }
      ],
      "source": [
        "# Filtragem Colaborativa Baseada em Usuário\n",
        "\n",
        "# Calcula a similaridade entre os usuários\n",
        "similaridade_usuarios = cosine_similarity(matriz_avaliacoes.fillna(0))\n",
        "sim_usuarios_df = pd.DataFrame(\n",
        "    similaridade_usuarios,\n",
        "    index=matriz_avaliacoes.index,\n",
        "    columns=matriz_avaliacoes.index\n",
        ")\n",
        "\n",
        "# Função para prever a nota que um usuário daria a um filme\n",
        "def prever_avaliacao_usuario(usuario, filme):\n",
        "    # Caso o filme não exista na matriz\n",
        "    if filme not in matriz_avaliacoes.columns:\n",
        "        return 3.0  # nota média neutra padrão\n",
        "\n",
        "    # Pega as avaliações dos usuários para esse filme\n",
        "    notas_usuario = matriz_avaliacoes[filme]\n",
        "\n",
        "    # Pega a similaridade do usuário com os outros\n",
        "    similaridade = sim_usuarios_df[usuario]\n",
        "\n",
        "    # Considera apenas os usuários que avaliaram o filme\n",
        "    mask = notas_usuario.notna()\n",
        "\n",
        "    # Se ninguém avaliou o filme, retorna valor neutro\n",
        "    if mask.sum() == 0:\n",
        "        return 3.0\n",
        "\n",
        "    pred = np.dot(similaridade[mask], notas_usuario[mask]) / similaridade[mask].sum()\n",
        "    return pred\n",
        "\n",
        "# Avaliação no conjunto de teste\n",
        "y_true, y_pred = [], []\n",
        "\n",
        "for _, row in test.iterrows():\n",
        "    y_true.append(row['avaliacao'])\n",
        "    y_pred.append(prever_avaliacao_usuario(row['usuario'], row['filme']))\n",
        "\n",
        "# Cálculo das métricas\n",
        "mse_user = mean_squared_error(y_true, y_pred)\n",
        "rmse_user = np.sqrt(mse_user)\n",
        "mae_user = mean_absolute_error(y_true, y_pred)\n",
        "\n",
        "print(f\"Filtragem Colaborativa (Usuário) — RMSE: {rmse_user:.3f}, MAE: {mae_user:.3f}\")\n"
      ]
    },
    {
      "cell_type": "code",
      "execution_count": 6,
      "metadata": {
        "colab": {
          "base_uri": "https://localhost:8080/"
        },
        "id": "X10-Gwug6vgg",
        "outputId": "1f39249d-4abb-45b7-f055-39017c4a1a2d"
      },
      "outputs": [
        {
          "name": "stdout",
          "output_type": "stream",
          "text": [
            "Filtragem Colaborativa (Item) — RMSE: 0.975, MAE: 0.777\n"
          ]
        }
      ],
      "source": [
        "# Filtragem Colaborativa Baseada em Itens\n",
        "\n",
        "# Calcula a similaridade entre os filmes\n",
        "similaridade_itens = cosine_similarity(matriz_avaliacoes.fillna(0).T)\n",
        "sim_itens_df = pd.DataFrame(\n",
        "    similaridade_itens,\n",
        "    index=matriz_avaliacoes.columns,\n",
        "    columns=matriz_avaliacoes.columns\n",
        ")\n",
        "\n",
        "# Função para prever a nota que um usuário daria a um filme\n",
        "# com base na similaridade entre os itens\n",
        "def prever_avaliacao_item(usuario, filme):\n",
        "    # Caso o filme não exista na matriz\n",
        "    if filme not in matriz_avaliacoes.columns:\n",
        "        return 3.0  # nota média neutra padrão\n",
        "\n",
        "    # Pega todas as notas que o usuário deu\n",
        "    notas_usuario = matriz_avaliacoes.loc[usuario]\n",
        "\n",
        "    # Pega a similaridade do filme atual com os outros filmes\n",
        "    similaridade = sim_itens_df[filme]\n",
        "\n",
        "    # Considera apenas os filmes avaliados pelo usuário\n",
        "    mask = notas_usuario.notna()\n",
        "\n",
        "    # Se o usuário não avaliou nada, retorna nota neutra\n",
        "    if mask.sum() == 0:\n",
        "        return 3.0\n",
        "\n",
        "    pred = np.dot(similaridade[mask], notas_usuario[mask]) / similaridade[mask].sum()\n",
        "    return pred\n",
        "\n",
        "# Avaliação no conjunto de teste\n",
        "y_true, y_pred = [], []\n",
        "\n",
        "for _, row in test.iterrows():\n",
        "    y_true.append(row['avaliacao'])\n",
        "    y_pred.append(prever_avaliacao_item(row['usuario'], row['filme']))\n",
        "\n",
        "# Cálculo das métricas\n",
        "mse_item = mean_squared_error(y_true, y_pred)\n",
        "rmse_item = np.sqrt(mse_item)\n",
        "mae_item = mean_absolute_error(y_true, y_pred)\n",
        "\n",
        "print(f\"Filtragem Colaborativa (Item) — RMSE: {rmse_item:.3f}, MAE: {mae_item:.3f}\")\n"
      ]
    },
    {
      "cell_type": "code",
      "execution_count": 7,
      "metadata": {
        "colab": {
          "base_uri": "https://localhost:8080/"
        },
        "id": "vtlyEWUV6zLL",
        "outputId": "455ece19-e625-4867-9182-fc19374bb46f"
      },
      "outputs": [
        {
          "name": "stdout",
          "output_type": "stream",
          "text": [
            "Epoch 1/5\n"
          ]
        },
        {
          "name": "stderr",
          "output_type": "stream",
          "text": [
            "2025-10-29 23:05:01.587476: E external/local_xla/xla/stream_executor/cuda/cuda_platform.cc:51] failed call to cuInit: INTERNAL: CUDA error: Failed call to cuInit: UNKNOWN ERROR (303)\n"
          ]
        },
        {
          "name": "stdout",
          "output_type": "stream",
          "text": [
            "\u001b[1m30/30\u001b[0m \u001b[32m━━━━━━━━━━━━━━━━━━━━\u001b[0m\u001b[37m\u001b[0m \u001b[1m1s\u001b[0m 6ms/step - loss: 0.7724\n",
            "Epoch 2/5\n",
            "\u001b[1m30/30\u001b[0m \u001b[32m━━━━━━━━━━━━━━━━━━━━\u001b[0m\u001b[37m\u001b[0m \u001b[1m0s\u001b[0m 5ms/step - loss: 0.6060\n",
            "Epoch 3/5\n",
            "\u001b[1m30/30\u001b[0m \u001b[32m━━━━━━━━━━━━━━━━━━━━\u001b[0m\u001b[37m\u001b[0m \u001b[1m0s\u001b[0m 5ms/step - loss: 0.5492\n",
            "Epoch 4/5\n",
            "\u001b[1m30/30\u001b[0m \u001b[32m━━━━━━━━━━━━━━━━━━━━\u001b[0m\u001b[37m\u001b[0m \u001b[1m0s\u001b[0m 5ms/step - loss: 0.5150\n",
            "Epoch 5/5\n",
            "\u001b[1m30/30\u001b[0m \u001b[32m━━━━━━━━━━━━━━━━━━━━\u001b[0m\u001b[37m\u001b[0m \u001b[1m0s\u001b[0m 4ms/step - loss: 0.4913\n",
            "\u001b[1m30/30\u001b[0m \u001b[32m━━━━━━━━━━━━━━━━━━━━\u001b[0m\u001b[37m\u001b[0m \u001b[1m0s\u001b[0m 9ms/step\n",
            "Autoencoder — RMSE: 0.688, MAE: 0.314\n"
          ]
        }
      ],
      "source": [
        "# Autoencoder (Aprendizado Profundo)\n",
        "\n",
        "# Substitui valores ausentes por 0\n",
        "matriz_treino = matriz_avaliacoes.fillna(0).values\n",
        "\n",
        "# Define o modelo de Autoencoder\n",
        "entrada = tf.keras.layers.Input(shape=(matriz_treino.shape[1],))\n",
        "codificador = tf.keras.layers.Dense(64, activation='relu')(entrada)\n",
        "decodificador = tf.keras.layers.Dense(matriz_treino.shape[1], activation='linear')(codificador)\n",
        "\n",
        "modelo = tf.keras.Model(entrada, decodificador)\n",
        "modelo.compile(optimizer='adam', loss='mse')\n",
        "\n",
        "# Treinamento do modelo\n",
        "modelo.fit(matriz_treino, matriz_treino, epochs=5, batch_size=32, verbose=1)\n",
        "\n",
        "# Predições e avaliação\n",
        "predicoes = modelo.predict(matriz_treino)\n",
        "\n",
        "# Cálculo das métricas\n",
        "mse_auto = mean_squared_error(matriz_treino.flatten(), predicoes.flatten())\n",
        "rmse_auto = np.sqrt(mse_auto)\n",
        "mae_auto = mean_absolute_error(matriz_treino.flatten(), predicoes.flatten())\n",
        "\n",
        "print(f\"Autoencoder — RMSE: {rmse_auto:.3f}, MAE: {mae_auto:.3f}\")\n"
      ]
    },
    {
      "cell_type": "code",
      "execution_count": 8,
      "metadata": {
        "colab": {
          "base_uri": "https://localhost:8080/"
        },
        "id": "nyJipPt48SL3",
        "outputId": "4b16bbb4-5224-42d4-8c2f-9e14b028cafe"
      },
      "outputs": [
        {
          "name": "stdout",
          "output_type": "stream",
          "text": [
            "           Método      RMSE       MAE\n",
            "0  Colab. Usuário  0.954667  0.759921\n",
            "1     Colab. Item  0.974673  0.776873\n",
            "2     Autoencoder  0.688161  0.314141\n"
          ]
        }
      ],
      "source": [
        "# Comparação Final\n",
        "\n",
        "resultados = pd.DataFrame({\n",
        "'Método': ['Colab. Usuário', 'Colab. Item', 'Autoencoder'],\n",
        "'RMSE': [rmse_user, rmse_item, rmse_auto],\n",
        "'MAE': [mae_user, mae_item, mae_auto]\n",
        "})\n",
        "print(resultados)"
      ]
    },
    {
      "cell_type": "code",
      "execution_count": 9,
      "metadata": {
        "id": "qzaLabFy_xrA"
      },
      "outputs": [],
      "source": [
        "# PERGUNTA: Qual abordagem foi mais eficiente na recomendação de filmes? Como melhorar o\n",
        "# sistema de recomendação?\n",
        "\n",
        "# Qual abordagem foi mais eficiente na recomendação de filmes?\n",
        "#- O Autoencoder Denso foi a abordagem mais eficiente. Ele apresentou RMSE = 0.680 e MAE = 0.313,\n",
        "# valores significativamente melhores que os métodos de filtragem colaborativa.\n",
        "# Isso mostra que suas previsões ficaram mais próximas das avaliações reais dos usuários.\n",
        "\n",
        "# Como melhorar o sistema de recomendação?\n",
        "#- Testar com novos dados.\n",
        "#- Considerar modelos híbridos (autoencoder + filtragem colaborativa).\n",
        "#- Incorporar metadados de usuários e filmes para enriquecer recomendações."
      ]
    }
  ],
  "metadata": {
    "colab": {
      "provenance": []
    },
    "kernelspec": {
      "display_name": "base",
      "language": "python",
      "name": "python3"
    },
    "language_info": {
      "codemirror_mode": {
        "name": "ipython",
        "version": 3
      },
      "file_extension": ".py",
      "mimetype": "text/x-python",
      "name": "python",
      "nbconvert_exporter": "python",
      "pygments_lexer": "ipython3",
      "version": "3.13.5"
    }
  },
  "nbformat": 4,
  "nbformat_minor": 0
}
