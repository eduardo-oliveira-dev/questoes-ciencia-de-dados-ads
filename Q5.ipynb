{
 "cells": [
  {
   "cell_type": "markdown",
   "id": "06f85387",
   "metadata": {},
   "source": [
    "# **Diagnóstico de Doença Cardíaca: Comparação de Modelos SVM e Random Forest**"
   ]
  },
  {
   "cell_type": "markdown",
   "id": "f3398437",
   "metadata": {},
   "source": [
    "### Descrição das Variáveis do Dataset\n",
    "\n",
    "- **Age:** idade do paciente *(anos)*  \n",
    "- **Sex:** sexo do paciente *(M: Masculino, F: Feminino)*  \n",
    "- **ChestPainType:** tipo de dor no peito  \n",
    "  - **TA:** Angina Típica  \n",
    "  - **ATA:** Angina Atípica  \n",
    "  - **NAP:** Dor Não Anginosa  \n",
    "  - **ASY:** Assintomático  \n",
    "- **RestingBP:** pressão arterial em repouso *(mm Hg)*  \n",
    "- **Cholesterol:** colesterol sérico *(mm/dl)*  \n",
    "- **FastingBS:** glicemia em jejum  \n",
    "  - **1:** se FastingBS > 120 mg/dl  \n",
    "  - **0:** caso contrário  \n",
    "- **RestingECG:** resultados do eletrocardiograma em repouso  \n",
    "  - **Normal:** Normal  \n",
    "  - **ST:** anormalidade na onda ST-T *(inversões da onda T e/ou elevação ou depressão do ST > 0,05 mV)*  \n",
    "  - **LVH:** provável ou definida hipertrofia ventricular esquerda *(critérios de Estes)*  \n",
    "- **MaxHR:** frequência cardíaca máxima atingida *(valor entre 60 e 202)*  \n",
    "- **ExerciseAngina:** angina induzida por exercício *(Y: Sim, N: Não)*  \n",
    "- **Oldpeak:** valor de depressão do segmento ST *(numérico)*  \n",
    "- **ST_Slope:** inclinação do segmento ST durante o exercício  \n",
    "  - **Up:** ascendente  \n",
    "  - **Flat:** plana  \n",
    "  - **Down:** descendente  \n",
    "- **HeartDisease:** classe de saída  \n",
    "  - **1:** presença de doença cardíaca  \n",
    "  - **0:** normal\n"
   ]
  },
  {
   "cell_type": "markdown",
   "id": "8f304840",
   "metadata": {},
   "source": [
    "## **Configuração, Carregamento e Exploração dos Dados**"
   ]
  },
  {
   "cell_type": "code",
   "execution_count": 4,
   "id": "14e96813",
   "metadata": {},
   "outputs": [],
   "source": [
    "import numpy as np\n",
    "import pandas as pd\n",
    "import matplotlib.pyplot as plt\n",
    "from sklearn.preprocessing import StandardScaler\n",
    "from sklearn.model_selection import train_test_split\n",
    "from sklearn.svm import SVC\n",
    "from sklearn.ensemble import RandomForestClassifier\n",
    "from sklearn.metrics import (\n",
    "    accuracy_score, \n",
    "    confusion_matrix, \n",
    "    classification_report, \n",
    "    roc_curve, \n",
    "    roc_auc_score\n",
    ")"
   ]
  },
  {
   "cell_type": "code",
   "execution_count": 5,
   "id": "574f4f34",
   "metadata": {},
   "outputs": [
    {
     "data": {
      "text/html": [
       "<div>\n",
       "<style scoped>\n",
       "    .dataframe tbody tr th:only-of-type {\n",
       "        vertical-align: middle;\n",
       "    }\n",
       "\n",
       "    .dataframe tbody tr th {\n",
       "        vertical-align: top;\n",
       "    }\n",
       "\n",
       "    .dataframe thead th {\n",
       "        text-align: right;\n",
       "    }\n",
       "</style>\n",
       "<table border=\"1\" class=\"dataframe\">\n",
       "  <thead>\n",
       "    <tr style=\"text-align: right;\">\n",
       "      <th></th>\n",
       "      <th>Age</th>\n",
       "      <th>Sex</th>\n",
       "      <th>ChestPainType</th>\n",
       "      <th>RestingBP</th>\n",
       "      <th>Cholesterol</th>\n",
       "      <th>FastingBS</th>\n",
       "      <th>RestingECG</th>\n",
       "      <th>MaxHR</th>\n",
       "      <th>ExerciseAngina</th>\n",
       "      <th>Oldpeak</th>\n",
       "      <th>ST_Slope</th>\n",
       "      <th>HeartDisease</th>\n",
       "    </tr>\n",
       "  </thead>\n",
       "  <tbody>\n",
       "    <tr>\n",
       "      <th>0</th>\n",
       "      <td>40</td>\n",
       "      <td>M</td>\n",
       "      <td>ATA</td>\n",
       "      <td>140</td>\n",
       "      <td>289</td>\n",
       "      <td>0</td>\n",
       "      <td>Normal</td>\n",
       "      <td>172</td>\n",
       "      <td>N</td>\n",
       "      <td>0.0</td>\n",
       "      <td>Up</td>\n",
       "      <td>0</td>\n",
       "    </tr>\n",
       "    <tr>\n",
       "      <th>1</th>\n",
       "      <td>49</td>\n",
       "      <td>F</td>\n",
       "      <td>NAP</td>\n",
       "      <td>160</td>\n",
       "      <td>180</td>\n",
       "      <td>0</td>\n",
       "      <td>Normal</td>\n",
       "      <td>156</td>\n",
       "      <td>N</td>\n",
       "      <td>1.0</td>\n",
       "      <td>Flat</td>\n",
       "      <td>1</td>\n",
       "    </tr>\n",
       "    <tr>\n",
       "      <th>2</th>\n",
       "      <td>37</td>\n",
       "      <td>M</td>\n",
       "      <td>ATA</td>\n",
       "      <td>130</td>\n",
       "      <td>283</td>\n",
       "      <td>0</td>\n",
       "      <td>ST</td>\n",
       "      <td>98</td>\n",
       "      <td>N</td>\n",
       "      <td>0.0</td>\n",
       "      <td>Up</td>\n",
       "      <td>0</td>\n",
       "    </tr>\n",
       "    <tr>\n",
       "      <th>3</th>\n",
       "      <td>48</td>\n",
       "      <td>F</td>\n",
       "      <td>ASY</td>\n",
       "      <td>138</td>\n",
       "      <td>214</td>\n",
       "      <td>0</td>\n",
       "      <td>Normal</td>\n",
       "      <td>108</td>\n",
       "      <td>Y</td>\n",
       "      <td>1.5</td>\n",
       "      <td>Flat</td>\n",
       "      <td>1</td>\n",
       "    </tr>\n",
       "    <tr>\n",
       "      <th>4</th>\n",
       "      <td>54</td>\n",
       "      <td>M</td>\n",
       "      <td>NAP</td>\n",
       "      <td>150</td>\n",
       "      <td>195</td>\n",
       "      <td>0</td>\n",
       "      <td>Normal</td>\n",
       "      <td>122</td>\n",
       "      <td>N</td>\n",
       "      <td>0.0</td>\n",
       "      <td>Up</td>\n",
       "      <td>0</td>\n",
       "    </tr>\n",
       "  </tbody>\n",
       "</table>\n",
       "</div>"
      ],
      "text/plain": [
       "   Age Sex ChestPainType  RestingBP  Cholesterol  FastingBS RestingECG  MaxHR  \\\n",
       "0   40   M           ATA        140          289          0     Normal    172   \n",
       "1   49   F           NAP        160          180          0     Normal    156   \n",
       "2   37   M           ATA        130          283          0         ST     98   \n",
       "3   48   F           ASY        138          214          0     Normal    108   \n",
       "4   54   M           NAP        150          195          0     Normal    122   \n",
       "\n",
       "  ExerciseAngina  Oldpeak ST_Slope  HeartDisease  \n",
       "0              N      0.0       Up             0  \n",
       "1              N      1.0     Flat             1  \n",
       "2              N      0.0       Up             0  \n",
       "3              Y      1.5     Flat             1  \n",
       "4              N      0.0       Up             0  "
      ]
     },
     "execution_count": 5,
     "metadata": {},
     "output_type": "execute_result"
    }
   ],
   "source": [
    "# Carregar o dataset\n",
    "df = pd.read_csv('datasets/heart.csv')\n",
    "df.head()"
   ]
  },
  {
   "cell_type": "code",
   "execution_count": 6,
   "id": "7d331498",
   "metadata": {},
   "outputs": [
    {
     "data": {
      "text/plain": [
       "(918, 12)"
      ]
     },
     "execution_count": 6,
     "metadata": {},
     "output_type": "execute_result"
    }
   ],
   "source": [
    "# Mostrar a forma do DataFrame\n",
    "df.shape"
   ]
  },
  {
   "cell_type": "code",
   "execution_count": 7,
   "id": "775e60ff",
   "metadata": {},
   "outputs": [
    {
     "data": {
      "text/html": [
       "<div>\n",
       "<style scoped>\n",
       "    .dataframe tbody tr th:only-of-type {\n",
       "        vertical-align: middle;\n",
       "    }\n",
       "\n",
       "    .dataframe tbody tr th {\n",
       "        vertical-align: top;\n",
       "    }\n",
       "\n",
       "    .dataframe thead th {\n",
       "        text-align: right;\n",
       "    }\n",
       "</style>\n",
       "<table border=\"1\" class=\"dataframe\">\n",
       "  <thead>\n",
       "    <tr style=\"text-align: right;\">\n",
       "      <th></th>\n",
       "      <th>Age</th>\n",
       "      <th>RestingBP</th>\n",
       "      <th>Cholesterol</th>\n",
       "      <th>FastingBS</th>\n",
       "      <th>MaxHR</th>\n",
       "      <th>Oldpeak</th>\n",
       "      <th>HeartDisease</th>\n",
       "    </tr>\n",
       "  </thead>\n",
       "  <tbody>\n",
       "    <tr>\n",
       "      <th>count</th>\n",
       "      <td>918.000000</td>\n",
       "      <td>918.000000</td>\n",
       "      <td>918.000000</td>\n",
       "      <td>918.000000</td>\n",
       "      <td>918.000000</td>\n",
       "      <td>918.000000</td>\n",
       "      <td>918.000000</td>\n",
       "    </tr>\n",
       "    <tr>\n",
       "      <th>mean</th>\n",
       "      <td>53.510893</td>\n",
       "      <td>132.396514</td>\n",
       "      <td>198.799564</td>\n",
       "      <td>0.233115</td>\n",
       "      <td>136.809368</td>\n",
       "      <td>0.887364</td>\n",
       "      <td>0.553377</td>\n",
       "    </tr>\n",
       "    <tr>\n",
       "      <th>std</th>\n",
       "      <td>9.432617</td>\n",
       "      <td>18.514154</td>\n",
       "      <td>109.384145</td>\n",
       "      <td>0.423046</td>\n",
       "      <td>25.460334</td>\n",
       "      <td>1.066570</td>\n",
       "      <td>0.497414</td>\n",
       "    </tr>\n",
       "    <tr>\n",
       "      <th>min</th>\n",
       "      <td>28.000000</td>\n",
       "      <td>0.000000</td>\n",
       "      <td>0.000000</td>\n",
       "      <td>0.000000</td>\n",
       "      <td>60.000000</td>\n",
       "      <td>-2.600000</td>\n",
       "      <td>0.000000</td>\n",
       "    </tr>\n",
       "    <tr>\n",
       "      <th>25%</th>\n",
       "      <td>47.000000</td>\n",
       "      <td>120.000000</td>\n",
       "      <td>173.250000</td>\n",
       "      <td>0.000000</td>\n",
       "      <td>120.000000</td>\n",
       "      <td>0.000000</td>\n",
       "      <td>0.000000</td>\n",
       "    </tr>\n",
       "    <tr>\n",
       "      <th>50%</th>\n",
       "      <td>54.000000</td>\n",
       "      <td>130.000000</td>\n",
       "      <td>223.000000</td>\n",
       "      <td>0.000000</td>\n",
       "      <td>138.000000</td>\n",
       "      <td>0.600000</td>\n",
       "      <td>1.000000</td>\n",
       "    </tr>\n",
       "    <tr>\n",
       "      <th>75%</th>\n",
       "      <td>60.000000</td>\n",
       "      <td>140.000000</td>\n",
       "      <td>267.000000</td>\n",
       "      <td>0.000000</td>\n",
       "      <td>156.000000</td>\n",
       "      <td>1.500000</td>\n",
       "      <td>1.000000</td>\n",
       "    </tr>\n",
       "    <tr>\n",
       "      <th>max</th>\n",
       "      <td>77.000000</td>\n",
       "      <td>200.000000</td>\n",
       "      <td>603.000000</td>\n",
       "      <td>1.000000</td>\n",
       "      <td>202.000000</td>\n",
       "      <td>6.200000</td>\n",
       "      <td>1.000000</td>\n",
       "    </tr>\n",
       "  </tbody>\n",
       "</table>\n",
       "</div>"
      ],
      "text/plain": [
       "              Age   RestingBP  Cholesterol   FastingBS       MaxHR  \\\n",
       "count  918.000000  918.000000   918.000000  918.000000  918.000000   \n",
       "mean    53.510893  132.396514   198.799564    0.233115  136.809368   \n",
       "std      9.432617   18.514154   109.384145    0.423046   25.460334   \n",
       "min     28.000000    0.000000     0.000000    0.000000   60.000000   \n",
       "25%     47.000000  120.000000   173.250000    0.000000  120.000000   \n",
       "50%     54.000000  130.000000   223.000000    0.000000  138.000000   \n",
       "75%     60.000000  140.000000   267.000000    0.000000  156.000000   \n",
       "max     77.000000  200.000000   603.000000    1.000000  202.000000   \n",
       "\n",
       "          Oldpeak  HeartDisease  \n",
       "count  918.000000    918.000000  \n",
       "mean     0.887364      0.553377  \n",
       "std      1.066570      0.497414  \n",
       "min     -2.600000      0.000000  \n",
       "25%      0.000000      0.000000  \n",
       "50%      0.600000      1.000000  \n",
       "75%      1.500000      1.000000  \n",
       "max      6.200000      1.000000  "
      ]
     },
     "execution_count": 7,
     "metadata": {},
     "output_type": "execute_result"
    }
   ],
   "source": [
    "# Estatísticas descritivas do DataFrame\n",
    "df.describe()"
   ]
  },
  {
   "cell_type": "code",
   "execution_count": 8,
   "id": "0d715d5d",
   "metadata": {},
   "outputs": [
    {
     "name": "stdout",
     "output_type": "stream",
     "text": [
      "1\n"
     ]
    }
   ],
   "source": [
    "# Verificar quantos valores = 0 existem na coluna RestingBP\n",
    "print((df['RestingBP'] == 0).sum())"
   ]
  },
  {
   "cell_type": "code",
   "execution_count": 9,
   "id": "667049c5",
   "metadata": {},
   "outputs": [
    {
     "name": "stdout",
     "output_type": "stream",
     "text": [
      "172\n"
     ]
    }
   ],
   "source": [
    "# Verificar quantos valores = 0 existem na coluna Cholesterol\n",
    "print((df['Cholesterol'] == 0).sum())"
   ]
  },
  {
   "cell_type": "markdown",
   "id": "ee45aa2d",
   "metadata": {},
   "source": [
    "## **Tratamento de Dados**"
   ]
  },
  {
   "cell_type": "code",
   "execution_count": 10,
   "id": "2fea94b0",
   "metadata": {},
   "outputs": [],
   "source": [
    "# Remover linhas com 'RestingBP' igual a 0\n",
    "df = df.loc[df[\"RestingBP\"] != 0]"
   ]
  },
  {
   "cell_type": "code",
   "execution_count": 11,
   "id": "5bddc335",
   "metadata": {},
   "outputs": [
    {
     "data": {
      "text/plain": [
       "np.float64(244.6353887399464)"
      ]
     },
     "execution_count": 11,
     "metadata": {},
     "output_type": "execute_result"
    }
   ],
   "source": [
    "# Substituir valores 0 em 'Cholesterol' por NaN\n",
    "df.loc[df['Cholesterol'] == 0, 'Cholesterol'] = np.nan\n",
    "df['Cholesterol'].mean()"
   ]
  },
  {
   "cell_type": "code",
   "execution_count": 12,
   "id": "e8490edd",
   "metadata": {},
   "outputs": [],
   "source": [
    "# Tratar valores nulos em 'Cholesterol' com a média\n",
    "df['Cholesterol'] = df['Cholesterol'].fillna(df['Cholesterol'].mean())"
   ]
  },
  {
   "cell_type": "code",
   "execution_count": 13,
   "id": "29943f8a",
   "metadata": {},
   "outputs": [
    {
     "data": {
      "text/plain": [
       "Age               0\n",
       "Sex               0\n",
       "ChestPainType     0\n",
       "RestingBP         0\n",
       "Cholesterol       0\n",
       "FastingBS         0\n",
       "RestingECG        0\n",
       "MaxHR             0\n",
       "ExerciseAngina    0\n",
       "Oldpeak           0\n",
       "ST_Slope          0\n",
       "HeartDisease      0\n",
       "dtype: int64"
      ]
     },
     "execution_count": 13,
     "metadata": {},
     "output_type": "execute_result"
    }
   ],
   "source": [
    "# Verificar valores nulos\n",
    "df.isnull().sum()"
   ]
  },
  {
   "cell_type": "code",
   "execution_count": 14,
   "id": "4008bcf1",
   "metadata": {},
   "outputs": [
    {
     "data": {
      "text/html": [
       "<div>\n",
       "<style scoped>\n",
       "    .dataframe tbody tr th:only-of-type {\n",
       "        vertical-align: middle;\n",
       "    }\n",
       "\n",
       "    .dataframe tbody tr th {\n",
       "        vertical-align: top;\n",
       "    }\n",
       "\n",
       "    .dataframe thead th {\n",
       "        text-align: right;\n",
       "    }\n",
       "</style>\n",
       "<table border=\"1\" class=\"dataframe\">\n",
       "  <thead>\n",
       "    <tr style=\"text-align: right;\">\n",
       "      <th></th>\n",
       "      <th>Age</th>\n",
       "      <th>RestingBP</th>\n",
       "      <th>Cholesterol</th>\n",
       "      <th>FastingBS</th>\n",
       "      <th>MaxHR</th>\n",
       "      <th>Oldpeak</th>\n",
       "      <th>HeartDisease</th>\n",
       "    </tr>\n",
       "  </thead>\n",
       "  <tbody>\n",
       "    <tr>\n",
       "      <th>count</th>\n",
       "      <td>917.000000</td>\n",
       "      <td>917.000000</td>\n",
       "      <td>917.000000</td>\n",
       "      <td>917.000000</td>\n",
       "      <td>917.000000</td>\n",
       "      <td>917.000000</td>\n",
       "      <td>917.000000</td>\n",
       "    </tr>\n",
       "    <tr>\n",
       "      <th>mean</th>\n",
       "      <td>53.509269</td>\n",
       "      <td>132.540894</td>\n",
       "      <td>244.635389</td>\n",
       "      <td>0.233370</td>\n",
       "      <td>136.789531</td>\n",
       "      <td>0.886696</td>\n",
       "      <td>0.552890</td>\n",
       "    </tr>\n",
       "    <tr>\n",
       "      <th>std</th>\n",
       "      <td>9.437636</td>\n",
       "      <td>17.999749</td>\n",
       "      <td>53.347125</td>\n",
       "      <td>0.423206</td>\n",
       "      <td>25.467129</td>\n",
       "      <td>1.066960</td>\n",
       "      <td>0.497466</td>\n",
       "    </tr>\n",
       "    <tr>\n",
       "      <th>min</th>\n",
       "      <td>28.000000</td>\n",
       "      <td>80.000000</td>\n",
       "      <td>85.000000</td>\n",
       "      <td>0.000000</td>\n",
       "      <td>60.000000</td>\n",
       "      <td>-2.600000</td>\n",
       "      <td>0.000000</td>\n",
       "    </tr>\n",
       "    <tr>\n",
       "      <th>25%</th>\n",
       "      <td>47.000000</td>\n",
       "      <td>120.000000</td>\n",
       "      <td>214.000000</td>\n",
       "      <td>0.000000</td>\n",
       "      <td>120.000000</td>\n",
       "      <td>0.000000</td>\n",
       "      <td>0.000000</td>\n",
       "    </tr>\n",
       "    <tr>\n",
       "      <th>50%</th>\n",
       "      <td>54.000000</td>\n",
       "      <td>130.000000</td>\n",
       "      <td>244.635389</td>\n",
       "      <td>0.000000</td>\n",
       "      <td>138.000000</td>\n",
       "      <td>0.600000</td>\n",
       "      <td>1.000000</td>\n",
       "    </tr>\n",
       "    <tr>\n",
       "      <th>75%</th>\n",
       "      <td>60.000000</td>\n",
       "      <td>140.000000</td>\n",
       "      <td>267.000000</td>\n",
       "      <td>0.000000</td>\n",
       "      <td>156.000000</td>\n",
       "      <td>1.500000</td>\n",
       "      <td>1.000000</td>\n",
       "    </tr>\n",
       "    <tr>\n",
       "      <th>max</th>\n",
       "      <td>77.000000</td>\n",
       "      <td>200.000000</td>\n",
       "      <td>603.000000</td>\n",
       "      <td>1.000000</td>\n",
       "      <td>202.000000</td>\n",
       "      <td>6.200000</td>\n",
       "      <td>1.000000</td>\n",
       "    </tr>\n",
       "  </tbody>\n",
       "</table>\n",
       "</div>"
      ],
      "text/plain": [
       "              Age   RestingBP  Cholesterol   FastingBS       MaxHR  \\\n",
       "count  917.000000  917.000000   917.000000  917.000000  917.000000   \n",
       "mean    53.509269  132.540894   244.635389    0.233370  136.789531   \n",
       "std      9.437636   17.999749    53.347125    0.423206   25.467129   \n",
       "min     28.000000   80.000000    85.000000    0.000000   60.000000   \n",
       "25%     47.000000  120.000000   214.000000    0.000000  120.000000   \n",
       "50%     54.000000  130.000000   244.635389    0.000000  138.000000   \n",
       "75%     60.000000  140.000000   267.000000    0.000000  156.000000   \n",
       "max     77.000000  200.000000   603.000000    1.000000  202.000000   \n",
       "\n",
       "          Oldpeak  HeartDisease  \n",
       "count  917.000000    917.000000  \n",
       "mean     0.886696      0.552890  \n",
       "std      1.066960      0.497466  \n",
       "min     -2.600000      0.000000  \n",
       "25%      0.000000      0.000000  \n",
       "50%      0.600000      1.000000  \n",
       "75%      1.500000      1.000000  \n",
       "max      6.200000      1.000000  "
      ]
     },
     "execution_count": 14,
     "metadata": {},
     "output_type": "execute_result"
    }
   ],
   "source": [
    "df.describe()"
   ]
  },
  {
   "cell_type": "markdown",
   "id": "e39d1462",
   "metadata": {},
   "source": [
    "## **Pré-processamento (Encoding e Escalonamento)**"
   ]
  },
  {
   "cell_type": "code",
   "execution_count": 15,
   "id": "f3ab09b2",
   "metadata": {},
   "outputs": [
    {
     "name": "stdout",
     "output_type": "stream",
     "text": [
      "   Age  Sex  ChestPainType  RestingBP  Cholesterol  FastingBS  RestingECG  \\\n",
      "0   40    0              1        140        289.0          0           0   \n",
      "1   49    1              2        160        180.0          0           0   \n",
      "2   37    0              1        130        283.0          0           1   \n",
      "3   48    1              3        138        214.0          0           0   \n",
      "4   54    0              2        150        195.0          0           0   \n",
      "\n",
      "   MaxHR  ExerciseAngina  Oldpeak  ST_Slope  HeartDisease  \n",
      "0    172               0      0.0         0             0  \n",
      "1    156               0      1.0         1             1  \n",
      "2     98               0      0.0         0             0  \n",
      "3    108               1      1.5         1             1  \n",
      "4    122               0      0.0         0             0  \n",
      "\n",
      "Descrição dos Dados Escalonados:\n",
      "                 0             1             2             3             4   \\\n",
      "count  9.170000e+02  9.170000e+02  9.170000e+02  9.170000e+02  9.170000e+02   \n",
      "mean   1.859654e-16  7.748558e-18  1.046055e-16  7.767929e-16 -1.869340e-16   \n",
      "std    1.000546e+00  1.000546e+00  1.000546e+00  1.000546e+00  1.000546e+00   \n",
      "min   -2.704405e+00 -5.163086e-01 -2.418822e+00 -2.920572e+00 -2.994023e+00   \n",
      "25%   -6.900904e-01 -5.163086e-01 -2.705801e-01 -6.971063e-01 -5.745784e-01   \n",
      "50%    5.202558e-02 -5.163086e-01  8.035410e-01 -1.412398e-01  0.000000e+00   \n",
      "75%    6.881250e-01 -5.163086e-01  8.035410e-01  4.146267e-01  4.194568e-01   \n",
      "max    2.490407e+00  1.936826e+00  8.035410e-01  3.749826e+00  6.721265e+00   \n",
      "\n",
      "                 5           6             7             8             9   \\\n",
      "count  9.170000e+02  917.000000  9.170000e+02  9.170000e+02  9.170000e+02   \n",
      "mean   4.649135e-17    0.000000 -5.114048e-16 -1.046055e-16  7.748558e-17   \n",
      "std    1.000546e+00    1.000546  1.000546e+00  1.000546e+00  1.000546e+00   \n",
      "min   -5.517333e-01   -0.749818 -3.016886e+00 -8.243101e-01 -3.269662e+00   \n",
      "25%   -5.517333e-01   -0.749818 -6.596226e-01 -8.243101e-01 -8.315022e-01   \n",
      "50%   -5.517333e-01   -0.749818  4.755658e-02 -8.243101e-01 -2.688500e-01   \n",
      "75%   -5.517333e-01    0.491306  7.547357e-01  1.213136e+00  5.751284e-01   \n",
      "max    1.812470e+00    1.732430  2.561971e+00  1.213136e+00  4.982571e+00   \n",
      "\n",
      "                 10  \n",
      "count  9.170000e+02  \n",
      "mean  -3.874279e-17  \n",
      "std    1.000546e+00  \n",
      "min   -1.051095e+00  \n",
      "25%   -1.051095e+00  \n",
      "50%    5.965186e-01  \n",
      "75%    5.965186e-01  \n",
      "max    2.244132e+00  \n"
     ]
    },
    {
     "name": "stderr",
     "output_type": "stream",
     "text": [
      "/tmp/ipykernel_2216528/3061427614.py:5: FutureWarning: Downcasting behavior in `replace` is deprecated and will be removed in a future version. To retain the old behavior, explicitly call `result.infer_objects(copy=False)`. To opt-in to the future behavior, set `pd.set_option('future.no_silent_downcasting', True)`\n",
      "  df2['Sex'] = df2['Sex'].replace({'M':0, 'F': 1})\n",
      "/tmp/ipykernel_2216528/3061427614.py:6: FutureWarning: Downcasting behavior in `replace` is deprecated and will be removed in a future version. To retain the old behavior, explicitly call `result.infer_objects(copy=False)`. To opt-in to the future behavior, set `pd.set_option('future.no_silent_downcasting', True)`\n",
      "  df2['ChestPainType'] = df2['ChestPainType'].replace({'TA':0, 'ATA': 1, 'NAP':2, 'ASY': 3})\n",
      "/tmp/ipykernel_2216528/3061427614.py:7: FutureWarning: Downcasting behavior in `replace` is deprecated and will be removed in a future version. To retain the old behavior, explicitly call `result.infer_objects(copy=False)`. To opt-in to the future behavior, set `pd.set_option('future.no_silent_downcasting', True)`\n",
      "  df2['RestingECG'] = df2['RestingECG'].replace({'Normal':0, 'ST': 1, 'LVH':2})\n",
      "/tmp/ipykernel_2216528/3061427614.py:8: FutureWarning: Downcasting behavior in `replace` is deprecated and will be removed in a future version. To retain the old behavior, explicitly call `result.infer_objects(copy=False)`. To opt-in to the future behavior, set `pd.set_option('future.no_silent_downcasting', True)`\n",
      "  df2['ExerciseAngina'] = df2['ExerciseAngina'].replace({'N':0, 'Y': 1})\n",
      "/tmp/ipykernel_2216528/3061427614.py:9: FutureWarning: Downcasting behavior in `replace` is deprecated and will be removed in a future version. To retain the old behavior, explicitly call `result.infer_objects(copy=False)`. To opt-in to the future behavior, set `pd.set_option('future.no_silent_downcasting', True)`\n",
      "  df2['ST_Slope'] = df2['ST_Slope'].replace({'Up':0, 'Flat': 1, 'Down':2})\n"
     ]
    }
   ],
   "source": [
    "# Fazer cópia para pré-processamento\n",
    "df2 = pd.DataFrame.copy(df)\n",
    "\n",
    "# Label Encoding Manual\n",
    "df2['Sex'] = df2['Sex'].replace({'M':0, 'F': 1})\n",
    "df2['ChestPainType'] = df2['ChestPainType'].replace({'TA':0, 'ATA': 1, 'NAP':2, 'ASY': 3})\n",
    "df2['RestingECG'] = df2['RestingECG'].replace({'Normal':0, 'ST': 1, 'LVH':2})\n",
    "df2['ExerciseAngina'] = df2['ExerciseAngina'].replace({'N':0, 'Y': 1})\n",
    "df2['ST_Slope'] = df2['ST_Slope'].replace({'Up':0, 'Flat': 1, 'Down':2})\n",
    "\n",
    "print(df2.head())\n",
    "\n",
    "# Definir Previsores (X) e Alvo (y)\n",
    "previsores = df2.iloc[:, 0:11].values\n",
    "alvo = df2.iloc[:, 11].values\n",
    "\n",
    "# Escalonamento (Padronização)\n",
    "scaler = StandardScaler()\n",
    "previsores_esc = scaler.fit_transform(previsores)\n",
    "\n",
    "print(\"\\nDescrição dos Dados Escalonados:\")\n",
    "print(pd.DataFrame(previsores_esc).describe())"
   ]
  },
  {
   "cell_type": "markdown",
   "id": "4c127031",
   "metadata": {},
   "source": [
    "## **Divisão em Treino e Teste**"
   ]
  },
  {
   "cell_type": "code",
   "execution_count": 16,
   "id": "c86b51df",
   "metadata": {},
   "outputs": [
    {
     "name": "stdout",
     "output_type": "stream",
     "text": [
      "Formato X_treino: (641, 11)\n",
      "Formato X_teste: (276, 11)\n"
     ]
    }
   ],
   "source": [
    "# Dividir em treino e teste usando os dados escalonados\n",
    "X_treino, X_teste, y_treino, y_teste = train_test_split(previsores_esc, alvo, test_size = 0.3, random_state = 0)\n",
    "\n",
    "print(f\"Formato X_treino: {X_treino.shape}\")\n",
    "print(f\"Formato X_teste: {X_teste.shape}\")"
   ]
  },
  {
   "cell_type": "markdown",
   "id": "20b656cc",
   "metadata": {},
   "source": [
    "## **Modelo 1 - SVM (Treino e Avaliação)**"
   ]
  },
  {
   "cell_type": "code",
   "execution_count": 17,
   "id": "137ef069",
   "metadata": {},
   "outputs": [
    {
     "name": "stdout",
     "output_type": "stream",
     "text": [
      "Acurácia (SVM): 85.51%\n",
      "\n",
      "Matriz de Confusão (SVM):\n",
      "[[ 97  24]\n",
      " [ 16 139]]\n",
      "\n",
      "Relatório de Classificação (SVM):\n",
      "              precision    recall  f1-score   support\n",
      "\n",
      "           0       0.86      0.80      0.83       121\n",
      "           1       0.85      0.90      0.87       155\n",
      "\n",
      "    accuracy                           0.86       276\n",
      "   macro avg       0.86      0.85      0.85       276\n",
      "weighted avg       0.86      0.86      0.85       276\n",
      "\n"
     ]
    }
   ],
   "source": [
    "# Criar e treinar o modelo (probability=True é necessário para ROC-AUC)\n",
    "svm = SVC(kernel='rbf', random_state=1, C=2, probability=True)\n",
    "svm.fit(X_treino, y_treino)\n",
    "\n",
    "# Fazer previsões\n",
    "previsoes_svm = svm.predict(X_teste)\n",
    "\n",
    "# Avaliar\n",
    "print(f\"Acurácia (SVM): {accuracy_score(y_teste, previsoes_svm) * 100.0:.2f}%\")\n",
    "print(\"\\nMatriz de Confusão (SVM):\")\n",
    "print(confusion_matrix(y_teste, previsoes_svm))\n",
    "print(\"\\nRelatório de Classificação (SVM):\")\n",
    "print(classification_report(y_teste, previsoes_svm))"
   ]
  },
  {
   "cell_type": "markdown",
   "id": "e63dc41f",
   "metadata": {},
   "source": [
    "## **Modelo 2: Random Forest**"
   ]
  },
  {
   "cell_type": "code",
   "execution_count": 18,
   "id": "21494490",
   "metadata": {},
   "outputs": [
    {
     "name": "stdout",
     "output_type": "stream",
     "text": [
      "Acurácia (Random Forest): 86.59%\n",
      "\n",
      "Matriz de Confusão (Random Forest):\n",
      "[[103  18]\n",
      " [ 19 136]]\n",
      "\n",
      "Relatório de Classificação (Random Forest):\n",
      "              precision    recall  f1-score   support\n",
      "\n",
      "           0       0.84      0.85      0.85       121\n",
      "           1       0.88      0.88      0.88       155\n",
      "\n",
      "    accuracy                           0.87       276\n",
      "   macro avg       0.86      0.86      0.86       276\n",
      "weighted avg       0.87      0.87      0.87       276\n",
      "\n"
     ]
    }
   ],
   "source": [
    "# Criar e treinar o modelo\n",
    "random = RandomForestClassifier(n_estimators=150, criterion='entropy', random_state=0, max_depth=4)\n",
    "random.fit(X_treino, y_treino)\n",
    "\n",
    "# Fazer previsões\n",
    "previsoes_random = random.predict(X_teste)\n",
    "\n",
    "# Avaliar\n",
    "print(f\"Acurácia (Random Forest): {accuracy_score(y_teste, previsoes_random) * 100.0:.2f}%\")\n",
    "print(\"\\nMatriz de Confusão (Random Forest):\")\n",
    "print(confusion_matrix(y_teste, previsoes_random))\n",
    "print(\"\\nRelatório de Classificação (Random Forest):\")\n",
    "print(classification_report(y_teste, previsoes_random))"
   ]
  },
  {
   "cell_type": "code",
   "execution_count": 19,
   "id": "c8d8b564",
   "metadata": {},
   "outputs": [
    {
     "name": "stdout",
     "output_type": "stream",
     "text": [
      "\n",
      "Importância das Variáveis (Random Forest)\n",
      "          Variável  Importância\n",
      "10        ST_Slope     0.334924\n",
      "2    ChestPainType     0.162111\n",
      "8   ExerciseAngina     0.131725\n",
      "9          Oldpeak     0.122949\n",
      "7            MaxHR     0.080308\n",
      "4      Cholesterol     0.041096\n",
      "0              Age     0.039118\n",
      "3        RestingBP     0.028553\n",
      "1              Sex     0.027140\n",
      "5        FastingBS     0.022811\n",
      "6       RestingECG     0.009265\n"
     ]
    },
    {
     "data": {
      "image/png": "[encoded data removed]",
      "text/plain": [
       "<Figure size 1200x800 with 1 Axes>"
      ]
     },
     "metadata": {},
     "output_type": "display_data"
    }
   ],
   "source": [
    "# Importância das Variáveis (Random Forest)\n",
    "print(\"\\nImportância das Variáveis (Random Forest)\")\n",
    "importancias = random.feature_importances_\n",
    "nomes_colunas = df2.columns[0:11]\n",
    "\n",
    "importancia_df = pd.DataFrame({'Variável': nomes_colunas, 'Importância': importancias})\n",
    "importancia_df = importancia_df.sort_values(by='Importância', ascending=False)\n",
    "\n",
    "print(importancia_df)\n",
    "\n",
    "# Plotar gráfico de importância\n",
    "plt.figure(figsize=(12, 8))\n",
    "plt.barh(importancia_df['Variável'], importancia_df['Importância'])\n",
    "plt.xlabel('Nível de Importância')\n",
    "plt.ylabel('Variável')\n",
    "plt.title('Importância das Variáveis - Random Forest')\n",
    "plt.gca().invert_yaxis()\n",
    "plt.show()"
   ]
  },
  {
   "cell_type": "markdown",
   "id": "cff51a7b",
   "metadata": {},
   "source": [
    "## **Comparação de Modelos (Curva ROC-AUC)**"
   ]
  },
  {
   "cell_type": "code",
   "execution_count": 20,
   "id": "9b1b860e",
   "metadata": {},
   "outputs": [
    {
     "name": "stdout",
     "output_type": "stream",
     "text": [
      "Score AUC (SVM): 0.9097\n",
      "Score AUC (Random Forest): 0.9339\n"
     ]
    },
    {
     "data": {
      "image/png": "[encoded data removed]",
      "text/plain": [
       "<Figure size 1000x700 with 1 Axes>"
      ]
     },
     "metadata": {},
     "output_type": "display_data"
    }
   ],
   "source": [
    "# Obter as probabilidades de previsão para a classe 1\n",
    "prob_svm = svm.predict_proba(X_teste)[:, 1]\n",
    "prob_rf = random.predict_proba(X_teste)[:, 1]\n",
    "\n",
    "# Calcular scores AUC\n",
    "auc_svm = roc_auc_score(y_teste, prob_svm)\n",
    "auc_rf = roc_auc_score(y_teste, prob_rf)\n",
    "\n",
    "print(f\"Score AUC (SVM): {auc_svm:.4f}\")\n",
    "print(f\"Score AUC (Random Forest): {auc_rf:.4f}\")\n",
    "\n",
    "# Calcular pontos da curva ROC\n",
    "fpr_svm, tpr_svm, _ = roc_curve(y_teste, prob_svm)\n",
    "fpr_rf, tpr_rf, _ = roc_curve(y_teste, prob_rf)\n",
    "\n",
    "# Plotar a Curva ROC\n",
    "plt.figure(figsize=(10, 7))\n",
    "plt.plot(fpr_svm, tpr_svm, linestyle='-', label=f'SVM (AUC = {auc_svm:.4f})')\n",
    "plt.plot(fpr_rf, tpr_rf, linestyle='--', label=f'Random Forest (AUC = {auc_rf:.4f})')\n",
    "plt.plot([0, 1], [0, 1], 'k--') # Linha de referência\n",
    "\n",
    "plt.xlabel('Taxa de Falsos Positivos (FPR)')\n",
    "plt.ylabel('Taxa de Verdadeiros Positivos (TPR)')\n",
    "plt.title('Curva ROC - Comparação dos Modelos')\n",
    "plt.legend()\n",
    "plt.show()"
   ]
  },
  {
   "cell_type": "markdown",
   "id": "330d04b2",
   "metadata": {},
   "source": [
    "## **Conclusão**"
   ]
  },
  {
   "cell_type": "markdown",
   "id": "12cf24b2",
   "metadata": {},
   "source": [
    "**Qual modelo apresentou melhor desempenho?**\n",
    "\n",
    "O Random Forest apresentou um desempenho ligeiramente superior, com Acurácia de 86.59% e AUC de 0.9339, contra 85.51% e 0.9097 do SVM."
   ]
  },
  {
   "cell_type": "markdown",
   "id": "98c32bd8",
   "metadata": {},
   "source": [
    "**Quais variáveis mais impactaram a previsão?**"
   ]
  },
  {
   "cell_type": "code",
   "execution_count": 21,
   "id": "37c4d4d9",
   "metadata": {},
   "outputs": [
    {
     "name": "stdout",
     "output_type": "stream",
     "text": [
      "Com base no Random Forest, as variáveis mais importantes foram:\n",
      "      Variável  Importância\n",
      "      ST_Slope     0.334924\n",
      " ChestPainType     0.162111\n",
      "ExerciseAngina     0.131725\n",
      "       Oldpeak     0.122949\n",
      "         MaxHR     0.080308\n"
     ]
    }
   ],
   "source": [
    "print(\"Com base no Random Forest, as variáveis mais importantes foram:\")\n",
    "print(importancia_df.head(5).to_string(index=False))"
   ]
  }
 ],
 "metadata": {
  "kernelspec": {
   "display_name": "base",
   "language": "python",
   "name": "python3"
  },
  "language_info": {
   "codemirror_mode": {
    "name": "ipython",
    "version": 3
   },
   "file_extension": ".py",
   "mimetype": "text/x-python",
   "name": "python",
   "nbconvert_exporter": "python",
   "pygments_lexer": "ipython3",
   "version": "3.13.5"
  }
 },
 "nbformat": 4,
 "nbformat_minor": 5
}
